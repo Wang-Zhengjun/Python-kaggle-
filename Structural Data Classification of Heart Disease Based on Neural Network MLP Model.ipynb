{
 "cells": [
  {
   "cell_type": "markdown",
   "metadata": {},
   "source": [
    "## 11.基于神经网络MLP模型的心脏病结构化数据分类"
   ]
  },
  {
   "cell_type": "markdown",
   "metadata": {
    "colab_type": "text",
    "id": "K1y4OHpGgss7"
   },
   "source": [
    "数据集的具体描述:\n",
    "\n",
    ">列| 描述| \n",
    ">------------|----------|\n",
    ">Age | 年龄 | \n",
    ">Gender | 性别（1 = 男；0 = 女） | \n",
    ">CpType | 胸痛类型（0，1，2，3，4）|\n",
    ">RestingBP | 静息血压（入院时，以mm Hg计） |\n",
    ">SerumChol | 血清胆固醇（mg/dl） | \n",
    ">FBG |空腹血糖> 120 mg/dl（1 = true；0 = false）|\n",
    ">RestECG | 静息心电图结果（0，1，2）|\n",
    ">HRmax | 达到的最大心率 | \n",
    ">Angina | 运动诱发心绞痛（1 =是；0 =否）| \n",
    ">StDescent | 与休息时相比由运动引起的 ST 节段下降|\n",
    ">StSlope | 在运动高峰 ST 段的斜率 | \n",
    ">GaNum | 荧光透视法染色的大血管动脉（0-3）的数量 |\n",
    ">Thalassemia | 地中海贫血类型（fixed=固定缺陷、normal=正常、reversible=可逆缺陷）|\n",
    ">Result | 心脏病诊断结果（1 = true；0 = false） | "
   ]
  },
  {
   "cell_type": "code",
   "execution_count": 1,
   "metadata": {
    "colab": {},
    "colab_type": "code",
    "id": "9dEreb4QKizj"
   },
   "outputs": [],
   "source": [
    "import numpy as np\n",
    "import pandas as pd\n",
    "import tensorflow as tf\n",
    "from tensorflow import feature_column\n",
    "from tensorflow.keras import layers\n",
    "from sklearn.model_selection import train_test_split\n",
    "import os\n",
    "tf.compat.v1.logging.set_verbosity(tf.compat.v1.logging.ERROR)"
   ]
  },
  {
   "cell_type": "markdown",
   "metadata": {
    "colab_type": "text",
    "id": "KCEhSZcULZ9n"
   },
   "source": [
    "从csv文件中读取数据，存入dataframe对象"
   ]
  },
  {
   "cell_type": "code",
   "execution_count": 2,
   "metadata": {},
   "outputs": [
    {
     "data": {
      "text/html": [
       "<div>\n",
       "<style scoped>\n",
       "    .dataframe tbody tr th:only-of-type {\n",
       "        vertical-align: middle;\n",
       "    }\n",
       "\n",
       "    .dataframe tbody tr th {\n",
       "        vertical-align: top;\n",
       "    }\n",
       "\n",
       "    .dataframe thead th {\n",
       "        text-align: right;\n",
       "    }\n",
       "</style>\n",
       "<table border=\"1\" class=\"dataframe\">\n",
       "  <thead>\n",
       "    <tr style=\"text-align: right;\">\n",
       "      <th></th>\n",
       "      <th>Age</th>\n",
       "      <th>Gender</th>\n",
       "      <th>CpType</th>\n",
       "      <th>RestingBP</th>\n",
       "      <th>SerumChol</th>\n",
       "      <th>FBG</th>\n",
       "      <th>RestingECG</th>\n",
       "      <th>HRmax</th>\n",
       "      <th>Angina</th>\n",
       "      <th>StDescent</th>\n",
       "      <th>StSlope</th>\n",
       "      <th>GaNum</th>\n",
       "      <th>Thalassemia</th>\n",
       "      <th>Result</th>\n",
       "    </tr>\n",
       "  </thead>\n",
       "  <tbody>\n",
       "    <tr>\n",
       "      <td>0</td>\n",
       "      <td>年龄</td>\n",
       "      <td>性别</td>\n",
       "      <td>胸痛类型</td>\n",
       "      <td>静息血压</td>\n",
       "      <td>血清胆固醇</td>\n",
       "      <td>空腹血糖</td>\n",
       "      <td>静息心电图结果</td>\n",
       "      <td>达到的最大心率</td>\n",
       "      <td>运动诱发心绞痛</td>\n",
       "      <td>运动引起ST节段下降</td>\n",
       "      <td>运动高峰ST段的斜率</td>\n",
       "      <td>大血管动脉数量</td>\n",
       "      <td>地中海贫血类型</td>\n",
       "      <td>心脏病诊断结果</td>\n",
       "    </tr>\n",
       "  </tbody>\n",
       "</table>\n",
       "</div>"
      ],
      "text/plain": [
       "  Age Gender CpType RestingBP SerumChol   FBG RestingECG    HRmax   Angina  \\\n",
       "0  年龄     性别   胸痛类型      静息血压     血清胆固醇  空腹血糖    静息心电图结果  达到的最大心率  运动诱发心绞痛   \n",
       "\n",
       "    StDescent     StSlope    GaNum Thalassemia   Result  \n",
       "0  运动引起ST节段下降  运动高峰ST段的斜率  大血管动脉数量     地中海贫血类型  心脏病诊断结果  "
      ]
     },
     "execution_count": 2,
     "metadata": {},
     "output_type": "execute_result"
    }
   ],
   "source": [
    "dataframe = pd.read_csv('data/data_introduce.csv')\n",
    "dataframe"
   ]
  },
  {
   "cell_type": "code",
   "execution_count": 3,
   "metadata": {
    "colab": {},
    "colab_type": "code",
    "id": "REZ57BXCLdfG"
   },
   "outputs": [
    {
     "data": {
      "text/html": [
       "<div>\n",
       "<style scoped>\n",
       "    .dataframe tbody tr th:only-of-type {\n",
       "        vertical-align: middle;\n",
       "    }\n",
       "\n",
       "    .dataframe tbody tr th {\n",
       "        vertical-align: top;\n",
       "    }\n",
       "\n",
       "    .dataframe thead th {\n",
       "        text-align: right;\n",
       "    }\n",
       "</style>\n",
       "<table border=\"1\" class=\"dataframe\">\n",
       "  <thead>\n",
       "    <tr style=\"text-align: right;\">\n",
       "      <th></th>\n",
       "      <th>Age</th>\n",
       "      <th>Gender</th>\n",
       "      <th>CpType</th>\n",
       "      <th>RestingBP</th>\n",
       "      <th>SerumChol</th>\n",
       "      <th>FBG</th>\n",
       "      <th>RestingECG</th>\n",
       "      <th>HRmax</th>\n",
       "      <th>Angina</th>\n",
       "      <th>StDescent</th>\n",
       "      <th>StSlope</th>\n",
       "      <th>GaNum</th>\n",
       "      <th>Thalassemia</th>\n",
       "      <th>Result</th>\n",
       "    </tr>\n",
       "  </thead>\n",
       "  <tbody>\n",
       "    <tr>\n",
       "      <td>0</td>\n",
       "      <td>37.0</td>\n",
       "      <td>1.0</td>\n",
       "      <td>3.0</td>\n",
       "      <td>130.0</td>\n",
       "      <td>250.0</td>\n",
       "      <td>0.0</td>\n",
       "      <td>0.0</td>\n",
       "      <td>187.0</td>\n",
       "      <td>0.0</td>\n",
       "      <td>3.5</td>\n",
       "      <td>3.0</td>\n",
       "      <td>0.0</td>\n",
       "      <td>normal</td>\n",
       "      <td>0.0</td>\n",
       "    </tr>\n",
       "    <tr>\n",
       "      <td>1</td>\n",
       "      <td>41.0</td>\n",
       "      <td>0.0</td>\n",
       "      <td>2.0</td>\n",
       "      <td>130.0</td>\n",
       "      <td>204.0</td>\n",
       "      <td>0.0</td>\n",
       "      <td>2.0</td>\n",
       "      <td>172.0</td>\n",
       "      <td>0.0</td>\n",
       "      <td>1.4</td>\n",
       "      <td>1.0</td>\n",
       "      <td>0.0</td>\n",
       "      <td>normal</td>\n",
       "      <td>0.0</td>\n",
       "    </tr>\n",
       "    <tr>\n",
       "      <td>2</td>\n",
       "      <td>56.0</td>\n",
       "      <td>1.0</td>\n",
       "      <td>2.0</td>\n",
       "      <td>120.0</td>\n",
       "      <td>236.0</td>\n",
       "      <td>0.0</td>\n",
       "      <td>0.0</td>\n",
       "      <td>178.0</td>\n",
       "      <td>0.0</td>\n",
       "      <td>0.8</td>\n",
       "      <td>1.0</td>\n",
       "      <td>0.0</td>\n",
       "      <td>normal</td>\n",
       "      <td>0.0</td>\n",
       "    </tr>\n",
       "    <tr>\n",
       "      <td>3</td>\n",
       "      <td>62.0</td>\n",
       "      <td>0.0</td>\n",
       "      <td>4.0</td>\n",
       "      <td>140.0</td>\n",
       "      <td>268.0</td>\n",
       "      <td>0.0</td>\n",
       "      <td>2.0</td>\n",
       "      <td>160.0</td>\n",
       "      <td>0.0</td>\n",
       "      <td>3.6</td>\n",
       "      <td>3.0</td>\n",
       "      <td>2.0</td>\n",
       "      <td>normal</td>\n",
       "      <td>1.0</td>\n",
       "    </tr>\n",
       "    <tr>\n",
       "      <td>4</td>\n",
       "      <td>57.0</td>\n",
       "      <td>0.0</td>\n",
       "      <td>4.0</td>\n",
       "      <td>120.0</td>\n",
       "      <td>354.0</td>\n",
       "      <td>0.0</td>\n",
       "      <td>0.0</td>\n",
       "      <td>163.0</td>\n",
       "      <td>1.0</td>\n",
       "      <td>0.6</td>\n",
       "      <td>1.0</td>\n",
       "      <td>0.0</td>\n",
       "      <td>normal</td>\n",
       "      <td>0.0</td>\n",
       "    </tr>\n",
       "  </tbody>\n",
       "</table>\n",
       "</div>"
      ],
      "text/plain": [
       "    Age  Gender  CpType  RestingBP  SerumChol  FBG  RestingECG  HRmax  Angina  \\\n",
       "0  37.0     1.0     3.0      130.0      250.0  0.0         0.0  187.0     0.0   \n",
       "1  41.0     0.0     2.0      130.0      204.0  0.0         2.0  172.0     0.0   \n",
       "2  56.0     1.0     2.0      120.0      236.0  0.0         0.0  178.0     0.0   \n",
       "3  62.0     0.0     4.0      140.0      268.0  0.0         2.0  160.0     0.0   \n",
       "4  57.0     0.0     4.0      120.0      354.0  0.0         0.0  163.0     1.0   \n",
       "\n",
       "   StDescent  StSlope  GaNum Thalassemia  Result  \n",
       "0        3.5      3.0    0.0      normal     0.0  \n",
       "1        1.4      1.0    0.0      normal     0.0  \n",
       "2        0.8      1.0    0.0      normal     0.0  \n",
       "3        3.6      3.0    2.0      normal     1.0  \n",
       "4        0.6      1.0    0.0      normal     0.0  "
      ]
     },
     "execution_count": 3,
     "metadata": {},
     "output_type": "execute_result"
    }
   ],
   "source": [
    "dataframe = pd.read_csv('data/data_heart.csv')\n",
    "dataframe.head()"
   ]
  },
  {
   "cell_type": "code",
   "execution_count": 4,
   "metadata": {
    "colab": {},
    "colab_type": "code",
    "id": "YEOpw7LhMYsI"
   },
   "outputs": [
    {
     "name": "stdout",
     "output_type": "stream",
     "text": [
      "192 train examples\n",
      "48 validation examples\n",
      "60 test examples\n"
     ]
    }
   ],
   "source": [
    "train_and_val, test = train_test_split(dataframe, test_size=0.2)\n",
    "train, val = train_test_split(train_and_val, test_size=0.2)\n",
    "print(len(train), 'train examples')\n",
    "print(len(val), 'validation examples')\n",
    "print(len(test), 'test examples')"
   ]
  },
  {
   "cell_type": "code",
   "execution_count": 24,
   "metadata": {
    "colab": {},
    "colab_type": "code",
    "id": "NkcaMYP-MsRe"
   },
   "outputs": [],
   "source": [
    "def df_to_dataset(dataframe, shuffle=True, batch_size=32):\n",
    "    dataframeCopy = dataframe.copy()\n",
    "    labels = dataframeCopy.pop('Result') \n",
    "    ds = tf.data.Dataset.from_tensor_slices((dict(dataframeCopy), labels))\n",
    "    if shuffle:\n",
    "        ds = ds.shuffle(buffer_size=len(dataframeCopy))\n",
    "    ds = ds.batch(batch_size)\n",
    "    return ds"
   ]
  },
  {
   "cell_type": "code",
   "execution_count": 25,
   "metadata": {
    "colab": {},
    "colab_type": "code",
    "id": "CXbbXkJvMy34"
   },
   "outputs": [],
   "source": [
    "batch_size =5 \n",
    "train_ds = df_to_dataset(train, batch_size=batch_size)\n",
    "val_ds = df_to_dataset(val, shuffle=False, batch_size=batch_size)\n",
    "test_ds = df_to_dataset(test, shuffle=False, batch_size=batch_size)"
   ]
  },
  {
   "cell_type": "code",
   "execution_count": 26,
   "metadata": {
    "colab": {},
    "colab_type": "code",
    "id": "CSBo3dUVNFc9"
   },
   "outputs": [
    {
     "name": "stdout",
     "output_type": "stream",
     "text": [
      "Every feature: ['Age', 'Gender', 'CpType', 'RestingBP', 'SerumChol', 'FBG', 'RestingECG', 'HRmax', 'Angina', 'StDescent', 'StSlope', 'GaNum', 'Thalassemia']\n",
      "A batch of age: tf.Tensor([71. 43. 58. 41. 46.], shape=(5,), dtype=float64)\n",
      "A batch of result: tf.Tensor([0. 1. 0. 0. 0.], shape=(5,), dtype=float64)\n"
     ]
    }
   ],
   "source": [
    "for feature_batch, label_batch in train_ds.take(1):   # 取第一个元素构建dataset\n",
    "    print('Every feature:', list(feature_batch.keys()))\n",
    "    print('A batch of age:', feature_batch['Age'])\n",
    "    print('A batch of result:', label_batch )"
   ]
  },
  {
   "cell_type": "code",
   "execution_count": 27,
   "metadata": {
    "colab": {},
    "colab_type": "code",
    "id": "0wfLB8Q3N3UH"
   },
   "outputs": [],
   "source": [
    "def demo(feature_column):\n",
    "    example_batch = next(iter(train_ds))[0]\n",
    "    feature_layer = layers.DenseFeatures(feature_column)\n",
    "    print(feature_layer(example_batch).numpy())"
   ]
  },
  {
   "cell_type": "code",
   "execution_count": 28,
   "metadata": {
    "colab": {},
    "colab_type": "code",
    "id": "QZTZ0HnHOCxC"
   },
   "outputs": [
    {
     "name": "stdout",
     "output_type": "stream",
     "text": [
      "[[57.]\n",
      " [62.]\n",
      " [59.]\n",
      " [67.]\n",
      " [58.]]\n"
     ]
    }
   ],
   "source": [
    "age = feature_column.numeric_column(key=\"Age\")\n",
    "demo(age)"
   ]
  },
  {
   "cell_type": "code",
   "execution_count": 29,
   "metadata": {
    "colab": {},
    "colab_type": "code",
    "id": "wJ4Wt3SAOpTQ"
   },
   "outputs": [
    {
     "name": "stdout",
     "output_type": "stream",
     "text": [
      "[[0. 0. 0. 0. 1. 0. 0. 0.]\n",
      " [0. 0. 0. 0. 1. 0. 0. 0.]\n",
      " [0. 0. 0. 1. 0. 0. 0. 0.]\n",
      " [0. 0. 0. 1. 0. 0. 0. 0.]\n",
      " [0. 0. 0. 0. 1. 0. 0. 0.]]\n"
     ]
    }
   ],
   "source": [
    "age_buckets = feature_column.bucketized_column(age, boundaries=[25, 35, 45,  55,  65,  75, 85])\n",
    "demo(age_buckets)"
   ]
  },
  {
   "cell_type": "code",
   "execution_count": 30,
   "metadata": {
    "colab": {},
    "colab_type": "code",
    "id": "DJ6QnSHkPtOC"
   },
   "outputs": [
    {
     "name": "stdout",
     "output_type": "stream",
     "text": [
      "[[0. 1. 0.]\n",
      " [0. 1. 0.]\n",
      " [0. 1. 0.]\n",
      " [0. 1. 0.]\n",
      " [0. 1. 0.]]\n"
     ]
    }
   ],
   "source": [
    "thal_class = feature_column.categorical_column_with_vocabulary_list(\n",
    "      'Thalassemia', ['fixed', 'normal', 'reversible'])\n",
    "\n",
    "thal_one_hot = feature_column.indicator_column(thal_class)\n",
    "demo(thal_one_hot)"
   ]
  },
  {
   "cell_type": "code",
   "execution_count": 31,
   "metadata": {
    "colab": {},
    "colab_type": "code",
    "id": "hSlohmr2Q_UU"
   },
   "outputs": [
    {
     "name": "stdout",
     "output_type": "stream",
     "text": [
      "[[-0.0520617  -0.29370883  0.4211001   0.2146015  -0.28931552 -0.40047628\n",
      "  -0.28597975 -0.0896568 ]\n",
      " [-0.18680307 -0.05289834  0.19895566  0.33271798  0.10550185 -0.2915969\n",
      "   0.03050715 -0.1833851 ]\n",
      " [-0.0520617  -0.29370883  0.4211001   0.2146015  -0.28931552 -0.40047628\n",
      "  -0.28597975 -0.0896568 ]\n",
      " [-0.18680307 -0.05289834  0.19895566  0.33271798  0.10550185 -0.2915969\n",
      "   0.03050715 -0.1833851 ]\n",
      " [-0.0520617  -0.29370883  0.4211001   0.2146015  -0.28931552 -0.40047628\n",
      "  -0.28597975 -0.0896568 ]]\n"
     ]
    }
   ],
   "source": [
    "thal_embedding = feature_column.embedding_column(thal_class, dimension=8)\n",
    "demo(thal_embedding)"
   ]
  },
  {
   "cell_type": "code",
   "execution_count": 34,
   "metadata": {
    "colab": {},
    "colab_type": "code",
    "id": "YHU_Aj2nRRDC"
   },
   "outputs": [
    {
     "name": "stdout",
     "output_type": "stream",
     "text": [
      "[[0. 0. 0. 1. 0. 0. 0. 0. 0. 0.]\n",
      " [0. 0. 0. 1. 0. 0. 0. 0. 0. 0.]\n",
      " [0. 0. 0. 0. 1. 0. 0. 0. 0. 0.]\n",
      " [0. 0. 0. 1. 0. 0. 0. 0. 0. 0.]\n",
      " [0. 0. 0. 0. 1. 0. 0. 0. 0. 0.]]\n"
     ]
    }
   ],
   "source": [
    "thal_hashed = feature_column.categorical_column_with_hash_bucket('Thalassemia', hash_bucket_size=10)\n",
    "demo(feature_column.indicator_column(thal_hashed))"
   ]
  },
  {
   "cell_type": "code",
   "execution_count": 35,
   "metadata": {},
   "outputs": [
    {
     "data": {
      "text/html": [
       "<div>\n",
       "<style scoped>\n",
       "    .dataframe tbody tr th:only-of-type {\n",
       "        vertical-align: middle;\n",
       "    }\n",
       "\n",
       "    .dataframe tbody tr th {\n",
       "        vertical-align: top;\n",
       "    }\n",
       "\n",
       "    .dataframe thead th {\n",
       "        text-align: right;\n",
       "    }\n",
       "</style>\n",
       "<table border=\"1\" class=\"dataframe\">\n",
       "  <thead>\n",
       "    <tr style=\"text-align: right;\">\n",
       "      <th></th>\n",
       "      <th>Age</th>\n",
       "      <th>Gender</th>\n",
       "      <th>CpType</th>\n",
       "      <th>RestingBP</th>\n",
       "      <th>SerumChol</th>\n",
       "      <th>FBG</th>\n",
       "      <th>RestingECG</th>\n",
       "      <th>HRmax</th>\n",
       "      <th>Angina</th>\n",
       "      <th>StDescent</th>\n",
       "      <th>StSlope</th>\n",
       "      <th>GaNum</th>\n",
       "      <th>Result</th>\n",
       "    </tr>\n",
       "  </thead>\n",
       "  <tbody>\n",
       "    <tr>\n",
       "      <td>count</td>\n",
       "      <td>300.000000</td>\n",
       "      <td>300.000000</td>\n",
       "      <td>300.000000</td>\n",
       "      <td>300.000000</td>\n",
       "      <td>300.000000</td>\n",
       "      <td>300.000000</td>\n",
       "      <td>300.000000</td>\n",
       "      <td>300.000000</td>\n",
       "      <td>300.000000</td>\n",
       "      <td>300.00000</td>\n",
       "      <td>300.000000</td>\n",
       "      <td>300.000000</td>\n",
       "      <td>300.000000</td>\n",
       "    </tr>\n",
       "    <tr>\n",
       "      <td>mean</td>\n",
       "      <td>54.483333</td>\n",
       "      <td>0.673333</td>\n",
       "      <td>3.110000</td>\n",
       "      <td>131.686667</td>\n",
       "      <td>246.520000</td>\n",
       "      <td>0.146667</td>\n",
       "      <td>0.980000</td>\n",
       "      <td>149.396667</td>\n",
       "      <td>0.323333</td>\n",
       "      <td>1.04700</td>\n",
       "      <td>1.583333</td>\n",
       "      <td>0.673333</td>\n",
       "      <td>0.273333</td>\n",
       "    </tr>\n",
       "    <tr>\n",
       "      <td>std</td>\n",
       "      <td>8.990689</td>\n",
       "      <td>0.469778</td>\n",
       "      <td>1.023748</td>\n",
       "      <td>17.732549</td>\n",
       "      <td>52.371674</td>\n",
       "      <td>0.354364</td>\n",
       "      <td>0.988022</td>\n",
       "      <td>23.136775</td>\n",
       "      <td>0.468530</td>\n",
       "      <td>1.16491</td>\n",
       "      <td>0.614530</td>\n",
       "      <td>0.928887</td>\n",
       "      <td>0.446415</td>\n",
       "    </tr>\n",
       "    <tr>\n",
       "      <td>min</td>\n",
       "      <td>29.000000</td>\n",
       "      <td>0.000000</td>\n",
       "      <td>0.000000</td>\n",
       "      <td>94.000000</td>\n",
       "      <td>126.000000</td>\n",
       "      <td>0.000000</td>\n",
       "      <td>0.000000</td>\n",
       "      <td>71.000000</td>\n",
       "      <td>0.000000</td>\n",
       "      <td>0.00000</td>\n",
       "      <td>1.000000</td>\n",
       "      <td>0.000000</td>\n",
       "      <td>0.000000</td>\n",
       "    </tr>\n",
       "    <tr>\n",
       "      <td>25%</td>\n",
       "      <td>48.000000</td>\n",
       "      <td>0.000000</td>\n",
       "      <td>2.000000</td>\n",
       "      <td>120.000000</td>\n",
       "      <td>211.000000</td>\n",
       "      <td>0.000000</td>\n",
       "      <td>0.000000</td>\n",
       "      <td>132.750000</td>\n",
       "      <td>0.000000</td>\n",
       "      <td>0.00000</td>\n",
       "      <td>1.000000</td>\n",
       "      <td>0.000000</td>\n",
       "      <td>0.000000</td>\n",
       "    </tr>\n",
       "    <tr>\n",
       "      <td>50%</td>\n",
       "      <td>56.000000</td>\n",
       "      <td>1.000000</td>\n",
       "      <td>3.000000</td>\n",
       "      <td>130.000000</td>\n",
       "      <td>241.500000</td>\n",
       "      <td>0.000000</td>\n",
       "      <td>1.000000</td>\n",
       "      <td>152.500000</td>\n",
       "      <td>0.000000</td>\n",
       "      <td>0.80000</td>\n",
       "      <td>2.000000</td>\n",
       "      <td>0.000000</td>\n",
       "      <td>0.000000</td>\n",
       "    </tr>\n",
       "    <tr>\n",
       "      <td>75%</td>\n",
       "      <td>61.000000</td>\n",
       "      <td>1.000000</td>\n",
       "      <td>4.000000</td>\n",
       "      <td>140.000000</td>\n",
       "      <td>275.000000</td>\n",
       "      <td>0.000000</td>\n",
       "      <td>2.000000</td>\n",
       "      <td>166.000000</td>\n",
       "      <td>1.000000</td>\n",
       "      <td>1.60000</td>\n",
       "      <td>2.000000</td>\n",
       "      <td>1.000000</td>\n",
       "      <td>1.000000</td>\n",
       "    </tr>\n",
       "    <tr>\n",
       "      <td>max</td>\n",
       "      <td>77.000000</td>\n",
       "      <td>1.000000</td>\n",
       "      <td>4.000000</td>\n",
       "      <td>200.000000</td>\n",
       "      <td>564.000000</td>\n",
       "      <td>1.000000</td>\n",
       "      <td>2.000000</td>\n",
       "      <td>202.000000</td>\n",
       "      <td>1.000000</td>\n",
       "      <td>6.20000</td>\n",
       "      <td>3.000000</td>\n",
       "      <td>3.000000</td>\n",
       "      <td>1.000000</td>\n",
       "    </tr>\n",
       "  </tbody>\n",
       "</table>\n",
       "</div>"
      ],
      "text/plain": [
       "              Age      Gender      CpType   RestingBP   SerumChol         FBG  \\\n",
       "count  300.000000  300.000000  300.000000  300.000000  300.000000  300.000000   \n",
       "mean    54.483333    0.673333    3.110000  131.686667  246.520000    0.146667   \n",
       "std      8.990689    0.469778    1.023748   17.732549   52.371674    0.354364   \n",
       "min     29.000000    0.000000    0.000000   94.000000  126.000000    0.000000   \n",
       "25%     48.000000    0.000000    2.000000  120.000000  211.000000    0.000000   \n",
       "50%     56.000000    1.000000    3.000000  130.000000  241.500000    0.000000   \n",
       "75%     61.000000    1.000000    4.000000  140.000000  275.000000    0.000000   \n",
       "max     77.000000    1.000000    4.000000  200.000000  564.000000    1.000000   \n",
       "\n",
       "       RestingECG       HRmax      Angina  StDescent     StSlope       GaNum  \\\n",
       "count  300.000000  300.000000  300.000000  300.00000  300.000000  300.000000   \n",
       "mean     0.980000  149.396667    0.323333    1.04700    1.583333    0.673333   \n",
       "std      0.988022   23.136775    0.468530    1.16491    0.614530    0.928887   \n",
       "min      0.000000   71.000000    0.000000    0.00000    1.000000    0.000000   \n",
       "25%      0.000000  132.750000    0.000000    0.00000    1.000000    0.000000   \n",
       "50%      1.000000  152.500000    0.000000    0.80000    2.000000    0.000000   \n",
       "75%      2.000000  166.000000    1.000000    1.60000    2.000000    1.000000   \n",
       "max      2.000000  202.000000    1.000000    6.20000    3.000000    3.000000   \n",
       "\n",
       "           Result  \n",
       "count  300.000000  \n",
       "mean     0.273333  \n",
       "std      0.446415  \n",
       "min      0.000000  \n",
       "25%      0.000000  \n",
       "50%      0.000000  \n",
       "75%      1.000000  \n",
       "max      1.000000  "
      ]
     },
     "execution_count": 35,
     "metadata": {},
     "output_type": "execute_result"
    }
   ],
   "source": [
    "dataframe.describe() "
   ]
  },
  {
   "cell_type": "code",
   "execution_count": 36,
   "metadata": {},
   "outputs": [],
   "source": [
    "feature_columns = []\n",
    "for header in ['Gender','CpType','FBG','RestingECG','Angina','StSlope','GaNum']:\n",
    "    feature_columns.append(feature_column.numeric_column(header))\n",
    "age = feature_column.numeric_column(\"Age\")\n",
    "age_buckets = feature_column.bucketized_column(age, boundaries=[25, 35, 45,  55,  65,  75, 85])\n",
    "\n",
    "feature_columns.append(age_buckets)\n",
    "\n",
    "trestbps = feature_column.numeric_column(\"RestingBP\")\n",
    "trestbps_buckets = feature_column.bucketized_column(trestbps, boundaries=[90, 110, 130, 150, 170, 190, 210])\n",
    "feature_columns.append(trestbps_buckets)\n",
    "\n",
    "chol = feature_column.numeric_column(\"SerumChol\")\n",
    "chol_buckets = feature_column.bucketized_column(chol, boundaries=[100, 200, 300,  400,  500, 600])\n",
    "feature_columns.append(chol_buckets)\n",
    "\n",
    "thalach = feature_column.numeric_column(\"HRmax\")\n",
    "thalach_buckets = feature_column.bucketized_column(thalach, boundaries=[70, 90, 110, 130, 150, 170, 190, 210])\n",
    "feature_columns.append(thalach_buckets)\n",
    "\n",
    "oldpeak = feature_column.numeric_column(\"StDescent\")\n",
    "oldpeak_buckets = feature_column.bucketized_column(oldpeak, boundaries=[0, 1, 2, 3, 4, 5, 6, 7])\n",
    "feature_columns.append(oldpeak_buckets)\n",
    "\n",
    "\n",
    "thal = feature_column.categorical_column_with_vocabulary_list(\n",
    "      'Thalassemia', ['fixed', 'normal', 'reversible'])\n",
    "\n",
    "thal_one_hot = feature_column.indicator_column(thal)\n",
    "\n",
    "feature_columns.append(thal_one_hot)"
   ]
  },
  {
   "cell_type": "code",
   "execution_count": 37,
   "metadata": {
    "colab": {},
    "colab_type": "code",
    "id": "6o-El1R2TGQP"
   },
   "outputs": [],
   "source": [
    "feature_layer = tf.keras.layers.DenseFeatures(feature_columns)"
   ]
  },
  {
   "cell_type": "code",
   "execution_count": 38,
   "metadata": {
    "colab": {},
    "colab_type": "code",
    "id": "gcemszoGSse_"
   },
   "outputs": [],
   "source": [
    "batch_size = 32\n",
    "train_ds = df_to_dataset(train, batch_size=batch_size)\n",
    "val_ds = df_to_dataset(val, shuffle=False, batch_size=batch_size)\n",
    "test_ds = df_to_dataset(test, shuffle=False, batch_size=batch_size)"
   ]
  },
  {
   "cell_type": "code",
   "execution_count": 39,
   "metadata": {
    "colab": {},
    "colab_type": "code",
    "id": "_YJPPb3xTPeZ"
   },
   "outputs": [],
   "source": [
    "model = tf.keras.Sequential([\n",
    "  feature_layer,\n",
    "  layers.Dense(128, activation='relu'),\n",
    "  layers.Dense(128, activation='relu'),\n",
    "  layers.Dense(1, activation='sigmoid')\n",
    "])"
   ]
  },
  {
   "cell_type": "code",
   "execution_count": 40,
   "metadata": {},
   "outputs": [],
   "source": [
    "model.compile(\n",
    "              optimizer='adam',  \n",
    "              loss='binary_crossentropy',  \n",
    "              metrics=['accuracy'])"
   ]
  },
  {
   "cell_type": "code",
   "execution_count": 41,
   "metadata": {},
   "outputs": [
    {
     "name": "stdout",
     "output_type": "stream",
     "text": [
      "Epoch 1/5\n",
      "6/6 [==============================] - 1s 93ms/step - loss: 0.5639 - accuracy: 0.7448 - val_loss: 0.5769 - val_accuracy: 0.6458\n",
      "Epoch 2/5\n",
      "6/6 [==============================] - 0s 8ms/step - loss: 0.4763 - accuracy: 0.7448 - val_loss: 0.4927 - val_accuracy: 0.7083\n",
      "Epoch 3/5\n",
      "6/6 [==============================] - 0s 7ms/step - loss: 0.4045 - accuracy: 0.8125 - val_loss: 0.4214 - val_accuracy: 0.7917\n",
      "Epoch 4/5\n",
      "6/6 [==============================] - 0s 7ms/step - loss: 0.3519 - accuracy: 0.8750 - val_loss: 0.3863 - val_accuracy: 0.8333\n",
      "Epoch 5/5\n",
      "6/6 [==============================] - 0s 8ms/step - loss: 0.3201 - accuracy: 0.8802 - val_loss: 0.3672 - val_accuracy: 0.8333\n"
     ]
    },
    {
     "data": {
      "text/plain": [
       "<tensorflow.python.keras.callbacks.History at 0x2443bf21f88>"
      ]
     },
     "execution_count": 41,
     "metadata": {},
     "output_type": "execute_result"
    }
   ],
   "source": [
    "model.fit(train_ds,\n",
    "          validation_data=val_ds,\n",
    "          epochs=5)"
   ]
  },
  {
   "cell_type": "code",
   "execution_count": 42,
   "metadata": {},
   "outputs": [
    {
     "name": "stdout",
     "output_type": "stream",
     "text": [
      "2/2 [==============================] - 0s 4ms/step - loss: 0.3570 - accuracy: 0.8333\n",
      "Accuracy 0.8333333134651184\n"
     ]
    }
   ],
   "source": [
    "# 返回损失值和选定的指标值，即准确率accuracy\n",
    "loss, accuracy = model.evaluate(test_ds)\n",
    "print(\"Accuracy\", accuracy)"
   ]
  },
  {
   "cell_type": "code",
   "execution_count": null,
   "metadata": {},
   "outputs": [],
   "source": []
  }
 ],
 "metadata": {
  "colab": {
   "collapsed_sections": [],
   "name": "feature_columns.ipynb",
   "private_outputs": true,
   "provenance": [],
   "toc_visible": true,
   "version": "0.3.2"
  },
  "kernelspec": {
   "display_name": "Python 3",
   "language": "python",
   "name": "python3"
  },
  "language_info": {
   "codemirror_mode": {
    "name": "ipython",
    "version": 3
   },
   "file_extension": ".py",
   "mimetype": "text/x-python",
   "name": "python",
   "nbconvert_exporter": "python",
   "pygments_lexer": "ipython3",
   "version": "3.7.4"
  }
 },
 "nbformat": 4,
 "nbformat_minor": 4
}
